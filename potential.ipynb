{
 "cells": [
  {
   "cell_type": "code",
   "execution_count": 3,
   "metadata": {},
   "outputs": [
    {
     "data": {
      "text/plain": [
       "lattice_params! (generic function with 1 method)"
      ]
     },
     "metadata": {},
     "output_type": "display_data"
    }
   ],
   "source": [
    "include(\"./src/potential.jl\")\n",
    "include(\"./src/latt_para.jl\")"
   ]
  },
  {
   "cell_type": "code",
   "execution_count": 6,
   "metadata": {},
   "outputs": [
    {
     "data": {
      "text/plain": [
       "4-element Vector{Float64}:\n",
       " 1331.1923333333334\n",
       " 1434.584\n",
       " 1663.19\n",
       " 1813.715"
      ]
     },
     "metadata": {},
     "output_type": "display_data"
    }
   ],
   "source": [
    "# average mass of baryons unit: GeV\n",
    "mN = (938.272 + 939.566) / 2 \n",
    "mΣ = (1189.37 + 1192.64 + 1197.45) / 3 \n",
    "mΛ = 1115.68 \n",
    "mΞ = (1314.8+1321.3) / 2 \n",
    "\n",
    "# average mass of mesons unit: MeV\n",
    "mKbar = (493.68 + 497.65) / 2 \n",
    "mπ = (139.570*2 + 134.977) / 3\n",
    "mK = mKbar \n",
    "mη = 547.51\n",
    "\n",
    "a = [-2.0, -1.84, -2.25, -2.52]\n",
    "mch = [[mπ, mΣ],[mKbar, mN], [mη, mΛ], [mK, mΞ]]\n",
    "\n",
    "params = Dict(\n",
    "    :mch => mch,\n",
    "    :decons_vec => [92.4, 92.4, 92.4, 92.4] .* 1.123,\n",
    "    :m_meson => (mπ, mK)\n",
    ")\n",
    "params[:threshold] = [sum(mch[i]) for i in 1:4]"
   ]
  },
  {
   "cell_type": "code",
   "execution_count": 8,
   "metadata": {},
   "outputs": [
    {
     "data": {
      "text/plain": [
       "4-element Vector{Float64}:\n",
       " 103.76520000000001\n",
       " 103.76520000000001\n",
       " 103.76520000000001\n",
       " 103.76520000000001"
      ]
     },
     "metadata": {},
     "output_type": "display_data"
    }
   ],
   "source": [
    "b = Dict(:b0 => -0.43e-3, :bD => 0.08e-3, :bF => -0.27e-3)\n",
    "d = Dict(:d1 => -0.36e-3, :d2 => 0.09e-3, :d3 => 0.1e-3, :d4 => -0.59e-3)\n",
    "\n",
    "\n",
    "mπ, mK = 137, 495\n",
    "mch = params[:mch]\n",
    "decons = params[:decons_vec]"
   ]
  },
  {
   "cell_type": "code",
   "execution_count": 10,
   "metadata": {},
   "outputs": [
    {
     "data": {
      "text/plain": [
       "4×4 Matrix{ComplexF64}:\n",
       " 0.00989129+0.0im   0.00252393+0.0im   0.00273724+0.0im   -0.0027846-0.0im\n",
       " 0.00252393+0.0im    0.0103558+0.0im  -0.00718103-0.0im  -0.00468471-0.0im\n",
       " 0.00273724+0.0im  -0.00718103-0.0im  -0.00939448-0.0im   -0.0189925-0.0im\n",
       " -0.0027846-0.0im  -0.00468471-0.0im   -0.0189925-0.0im   -0.0126549-0.0im"
      ]
     },
     "metadata": {},
     "output_type": "display_data"
    }
   ],
   "source": [
    "VNLO!(1450, mπ, mK, mch, b, d, decons, n=4)"
   ]
  },
  {
   "cell_type": "code",
   "execution_count": null,
   "metadata": {},
   "outputs": [],
   "source": [
    "[0.16444444444444442, 6.75\n",
    "0.16444444444444442, 6.785714285714286\n",
    "0.16444444444444442, 7.104761904761905\n",
    "0.16444444444444442, 7.145238095238096\n",
    "0.36888888888888893, 6.783333333333333\n",
    "0.36888888888888893, 6.81904761904762\n",
    "0.36888888888888893, 7.130952380952381\n",
    "0.36888888888888893, 7.192857142857143\n",
    "0.5733333333333334, 6.823809523809524\n",
    "0.5744444444444444, 7.180952380952381\n",
    "0.7788888888888889, 6.816666666666666\n",
    "0.7788888888888889, 6.852380952380953\n",
    "0.7788888888888889, 7.147619047619048\n",
    "0.7788888888888889, 7.207142857142857]\n"
   ]
  }
 ],
 "metadata": {
  "kernelspec": {
   "display_name": "Julia 1.9.4",
   "language": "julia",
   "name": "julia-1.9"
  },
  "language_info": {
   "file_extension": ".jl",
   "mimetype": "application/julia",
   "name": "julia",
   "version": "1.9.4"
  }
 },
 "nbformat": 4,
 "nbformat_minor": 2
}
